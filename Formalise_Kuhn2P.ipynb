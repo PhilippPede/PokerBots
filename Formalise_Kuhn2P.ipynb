{
 "cells": [
  {
   "cell_type": "code",
   "execution_count": 116,
   "metadata": {},
   "outputs": [],
   "source": [
    "import numpy as np\n",
    "import pandas as pd\n",
    "\n",
    "import itertools\n",
    "import copy"
   ]
  },
  {
   "cell_type": "markdown",
   "metadata": {},
   "source": [
    "# Define Game-Tree"
   ]
  },
  {
   "cell_type": "code",
   "execution_count": 2,
   "metadata": {},
   "outputs": [],
   "source": [
    "class GameTree_Kuhn2P:\n",
    "    def __init__(self):\n",
    "        self.gameTree = {0: {\"name\": \"START\", \n",
    "                             \"thisPlayer\": None, \"nextPlayer\": \"p0\",\n",
    "                             \"thisRound\": 0, \"nextRound\": 1,\n",
    "                             \"conn_up\": None, \"conn_down\": []}}\n",
    "        self.playerActions = {\"p0\": [],\n",
    "                              \"p1\": []}\n",
    "        \n",
    "        self.addRound_1()\n",
    "        self.addRound_2()\n",
    "        self.addRound_3()\n",
    "       \n",
    "    # ----------------------------------------------------------------------------------------------------\n",
    "    #          first round\n",
    "    # ----------------------------------------------------------------------------------------------------\n",
    "    def addRound_1(self):\n",
    "        thisRound, nextRound = 1, 2\n",
    "        nodeUp  = 0\n",
    "        \n",
    "        nodeNew = 1\n",
    "        self.gameTree[nodeUp][\"conn_down\"].append(nodeNew)\n",
    "        self.gameTree[nodeNew] = {\"name\": \"check\", \n",
    "                                  \"thisPlayer\": \"p0\", \"nextPlayer\": \"p1\", \n",
    "                                  \"thisRound\": thisRound, \"nextRound\": nextRound,\n",
    "                                  \"conn_up\": nodeUp, \"conn_down\": []}\n",
    "        self.playerActions[\"p0\"].append(nodeNew)\n",
    "        \n",
    "        nodeNew = 2\n",
    "        self.gameTree[nodeUp][\"conn_down\"].append(nodeNew)\n",
    "        self.gameTree[nodeNew] = {\"name\": \"bet\", \n",
    "                                  \"thisPlayer\": \"p0\", \"nextPlayer\": \"p1\", \n",
    "                                  \"thisRound\": thisRound, \"nextRound\": nextRound,\n",
    "                                  \"conn_up\": nodeUp, \"conn_down\": []}\n",
    "        self.playerActions[\"p0\"].append(nodeNew)\n",
    "        \n",
    "    # ----------------------------------------------------------------------------------------------------\n",
    "    #          second round\n",
    "    # ----------------------------------------------------------------------------------------------------  \n",
    "    def addRound_2(self):\n",
    "        thisRound, nextRound = 2, 3\n",
    "        \n",
    "        # responses to P1:check\n",
    "        nodeUp  = 1\n",
    "        nodeNew = 3\n",
    "        self.gameTree[nodeUp][\"conn_down\"].append(nodeNew)\n",
    "        self.gameTree[nodeNew] = {\"name\": \"check\", \n",
    "                                  \"thisPlayer\": \"p1\", \"nextPlayer\": None, \n",
    "                                  \"thisRound\": thisRound, \"nextRound\": None,\n",
    "                                  \"conn_up\": nodeUp, \"conn_down\": [],\n",
    "                                  \"winningPlayer\": \"SHOWDOWN\",\n",
    "                                  \"winAmount\": 1}\n",
    "        self.playerActions[\"p1\"].append(nodeNew)\n",
    "        \n",
    "        nodeNew = 4\n",
    "        self.gameTree[nodeUp][\"conn_down\"].append(nodeNew)\n",
    "        self.gameTree[nodeNew] = {\"name\": \"bet\", \n",
    "                                  \"thisPlayer\": \"p1\", \"nextPlayer\": \"p0\", \n",
    "                                  \"thisRound\": thisRound, \"nextRound\": nextRound,\n",
    "                                  \"conn_up\": nodeUp, \"conn_down\": []}\n",
    "        self.playerActions[\"p1\"].append(nodeNew)\n",
    "        \n",
    "        # responses to P1:bet\n",
    "        nodeUp  = 2\n",
    "        nodeNew = 5\n",
    "        self.gameTree[nodeUp][\"conn_down\"].append(nodeNew)\n",
    "        self.gameTree[nodeNew] = {\"name\": \"fold\", \n",
    "                                  \"thisPlayer\": \"p1\", \"nextPlayer\": None, \n",
    "                                  \"thisRound\": thisRound, \"nextRound\": None,\n",
    "                                  \"conn_up\": nodeUp, \"conn_down\": [],\n",
    "                                  \"winningPlayer\": \"p0\",\n",
    "                                  \"winAmount\": 1}\n",
    "        self.playerActions[\"p1\"].append(nodeNew)\n",
    "        \n",
    "        nodeNew = 6\n",
    "        self.gameTree[nodeUp][\"conn_down\"].append(nodeNew)\n",
    "        self.gameTree[nodeNew] = {\"name\": \"call\", \n",
    "                                  \"thisPlayer\": \"p1\", \"nextPlayer\": None, \n",
    "                                  \"thisRound\": thisRound, \"nextRound\": None,\n",
    "                                  \"conn_up\": nodeUp, \"conn_down\": [],\n",
    "                                  \"winningPlayer\": \"SHOWDOWN\",\n",
    "                                  \"winAmount\": 2}\n",
    "        self.playerActions[\"p1\"].append(nodeNew)\n",
    "     \n",
    "    # ----------------------------------------------------------------------------------------------------\n",
    "    #          third round\n",
    "    # ----------------------------------------------------------------------------------------------------\n",
    "    def addRound_3(self):\n",
    "        thisRound, nextRound = 3, None\n",
    "        \n",
    "        # responses to P2:bet\n",
    "        nodeUp  = 4\n",
    "        nodeNew = 7\n",
    "        self.gameTree[nodeUp][\"conn_down\"].append(nodeNew)\n",
    "        self.gameTree[nodeNew] = {\"name\": \"fold\", \n",
    "                                  \"thisPlayer\": \"p0\", \"nextPlayer\": None, \n",
    "                                  \"thisRound\": thisRound, \"nextRound\": nextRound,\n",
    "                                  \"conn_up\": nodeUp, \"conn_down\": [],\n",
    "                                  \"winningPlayer\": \"p1\",\n",
    "                                  \"winAmount\": 1}\n",
    "        self.playerActions[\"p0\"].append(nodeNew)\n",
    "        \n",
    "        nodeNew = 8\n",
    "        self.gameTree[nodeUp][\"conn_down\"].append(nodeNew)\n",
    "        self.gameTree[nodeNew] = {\"name\": \"call\", \n",
    "                                  \"thisPlayer\": \"p0\", \"nextPlayer\": None, \n",
    "                                  \"thisRound\": thisRound, \"nextRound\": nextRound,\n",
    "                                  \"conn_up\": nodeUp, \"conn_down\": [],\n",
    "                                  \"winningPlayer\": \"SHOWDOWN\",\n",
    "                                  \"winAmount\": 2}\n",
    "        self.playerActions[\"p0\"].append(nodeNew)"
   ]
  },
  {
   "cell_type": "markdown",
   "metadata": {},
   "source": [
    "# Function for traversing gameTree"
   ]
  },
  {
   "cell_type": "code",
   "execution_count": 27,
   "metadata": {},
   "outputs": [],
   "source": [
    "###########################################################################################################\n",
    "#         traverse the game tree\n",
    "###########################################################################################################\n",
    "def traverse_gameTree(gameTree, strategy, hand, hand_values):\n",
    "    currentNode = 0\n",
    "    gameOver = False\n",
    "\n",
    "    dict_gamePlayed = {}\n",
    "\n",
    "    while not gameOver:\n",
    "        list_nextNodes = gameTree.gameTree[currentNode][\"conn_down\"]\n",
    "        nextPlayer = gameTree.gameTree[currentNode][\"nextPlayer\"]\n",
    "        thisRound = gameTree.gameTree[currentNode][\"thisRound\"]\n",
    "        nextRound = gameTree.gameTree[currentNode][\"nextRound\"]\n",
    "\n",
    "        # identify relevant strategy for player\n",
    "        playerStrategy = strategy[nextPlayer]\n",
    "        playerHand = hand[nextPlayer]\n",
    "\n",
    "        # decide actions to take\n",
    "        possible_actions = playerStrategy[playerHand][currentNode]\n",
    "\n",
    "        arr_actions, arr_prob = np.array([]), np.array([]) \n",
    "        for action, prob in possible_actions.items():\n",
    "            if action not in list_nextNodes:\n",
    "                raise ValueError(\"One of the actions ({}) was not found in game-tree\".format(action))\n",
    "\n",
    "            arr_actions = np.append(arr_actions, action)\n",
    "            arr_prob = np.append(arr_prob, prob)\n",
    "\n",
    "        # pick action based on probability distribution\n",
    "        chosen_action = int(np.random.choice(arr_actions, size=1, p=arr_prob))\n",
    "        dict_gamePlayed[nextRound] = {\"player\": nextPlayer, \"action\": chosen_action}\n",
    "\n",
    "        # move to next round\n",
    "        currentNode = chosen_action\n",
    "\n",
    "        # finish game if over\n",
    "        if gameTree.gameTree[currentNode][\"nextRound\"] is None:\n",
    "            gameOver = True\n",
    "\n",
    "            # evaluate payoff\n",
    "            winningPlayer = gt.gameTree[currentNode][\"winningPlayer\"]\n",
    "            if winningPlayer == \"SHOWDOWN\":\n",
    "                if hand_values[hand[\"p0\"]] > hand_values[hand[\"p1\"]]:\n",
    "                    winningPlayer = \"p0\"\n",
    "                elif hand_values[hand[\"p0\"]] < hand_values[hand[\"p1\"]]:\n",
    "                    winningPlayer = \"p1\"\n",
    "            winAmount = gameTree.gameTree[currentNode][\"winAmount\"]\n",
    "\n",
    "    return winningPlayer, winAmount, dict_gamePlayed"
   ]
  },
  {
   "cell_type": "markdown",
   "metadata": {},
   "source": [
    "# Remove weakly dominated strategies\n",
    "\n",
    "https://en.wikipedia.org/wiki/Strategic_dominance <br>\n",
    "\n",
    "**removing strictly dominated strategies** <br>\n",
    "If we only remove strictly dominated strategy, the order of removal does not matter. \n",
    "We are also guaranteed to not remove any Nash equilibria from our solution.\n",
    "\n",
    "**removing weakly dominated strategies** <br>\n",
    "The order of removal matters, and we also might drop some Nash equilibria from our solution.\n",
    "However, whatever remains after this process still is a valid Nash equilibrium.\n"
   ]
  },
  {
   "cell_type": "code",
   "execution_count": 94,
   "metadata": {},
   "outputs": [],
   "source": [
    "###########################################################################################################\n",
    "#         find weakly dominated strategies so that they can be removed\n",
    "###########################################################################################################\n",
    "def find_weaklyDominatedStrategies(mtx_payoff, findDominatedRows=False, findDominatedCols=False):\n",
    "    \n",
    "    if findDominatedRows and findDominatedCols:\n",
    "        raise ValueError(\"Only one of [findDominatedRows / findDominatedCols] can be True\")\n",
    "        \n",
    "    if not findDominatedRows and not findDominatedCols:\n",
    "        raise ValueError(\"Only one of [findDominatedRows / findDominatedCols] can be False\")\n",
    "        \n",
    "    if findDominatedRows:\n",
    "        list_rowsDominated = []\n",
    "        for iRow_toCheck in range(mtx_payoff.shape[0]):\n",
    "            row_toCheck = mtx_payoff[iRow_toCheck] \n",
    "\n",
    "            isDominated = False\n",
    "\n",
    "            for iRow in range(mtx_payoff.shape[0]):\n",
    "                if iRow == iRow_toCheck:\n",
    "                    continue\n",
    "\n",
    "                thisRow = mtx_payoff[iRow]\n",
    "\n",
    "                if all(row_toCheck <= thisRow):\n",
    "                    isDominated = True\n",
    "                    break\n",
    "\n",
    "            if isDominated:\n",
    "                list_rowsDominated.append(iRow_toCheck)\n",
    "                \n",
    "        return list_rowsDominated\n",
    "                \n",
    "    if findDominatedCols:\n",
    "        list_colsDominated = []\n",
    "        for iCol_toCheck in range(mtx_payoff.shape[1]):\n",
    "            col_toCheck = mtx_payoff[:,iCol_toCheck] \n",
    "\n",
    "            isDominated = False\n",
    "\n",
    "            for iCol in range(mtx_payoff.shape[1]):\n",
    "                if iCol == iCol_toCheck:\n",
    "                    continue\n",
    "\n",
    "                thisCol = mtx_payoff[:,iCol]\n",
    "\n",
    "                if all(col_toCheck <= thisCol):\n",
    "                    isDominated = True\n",
    "                    break\n",
    "\n",
    "            if isDominated:\n",
    "                list_colsDominated.append(iCol_toCheck)\n",
    "                \n",
    "        return list_colsDominated"
   ]
  },
  {
   "cell_type": "code",
   "execution_count": 145,
   "metadata": {},
   "outputs": [],
   "source": [
    "###########################################################################################################\n",
    "#         find weakly dominated strategies so that they can be removed\n",
    "###########################################################################################################\n",
    "def remove_weaklyDominatedStrategies(mtx_payoff, list_stratNames_p0, list_stratNames_p1):\n",
    "    # ensure that we don't mess around with original arguments\n",
    "    list_stratNames_p0 = copy.deepcopy(list_stratNames_p0)\n",
    "    list_stratNames_p1 = copy.deepcopy(list_stratNames_p1)\n",
    "\n",
    "    iteration = 0\n",
    "    while True:\n",
    "        iteration += 1\n",
    "        print(f\"[ITERATION {iteration}]\")\n",
    "        \n",
    "        # [STEP 1] Find weakly dominated strategies (rows & cols)\n",
    "        list_rowsDominated = find_weaklyDominatedStrategies(mtx_payoff, findDominatedRows=True)\n",
    "        print(\"   Found {} weakly dominated strategies (rows)\".format(\n",
    "            len(list_rowsDominated)))\n",
    "\n",
    "        # note that player1 (cols) has the same payoff as p0, but with reversed sign!\n",
    "        list_colsDominated = find_weaklyDominatedStrategies(mtx_payoff*(-1), findDominatedCols=True)\n",
    "        print(\"   Found {} weakly dominated strategies (cols)\".format(\n",
    "            len(list_colsDominated)))\n",
    "\n",
    "        # [STEP 2] check if there are strategies to remove\n",
    "        if (len(list_rowsDominated) == 0) and (len(list_colsDominated) == 0):\n",
    "            print(\"Removal of weakly dominated strategies complete\")\n",
    "            return mtx_payoff, list_stratNames_p0, list_stratNames_p1\n",
    "            \n",
    "        # [STEP 3] delete all weakly dominated strategies from payoff_matrix\n",
    "        mtx_payoff = np.delete(mtx_payoff, list_rowsDominated, axis=0)\n",
    "        mtx_payoff = np.delete(mtx_payoff, list_colsDominated, axis=1)\n",
    "\n",
    "        # [STEP 4] delete all weakly dominates strategies from strategyName list\n",
    "        for idx_del in sorted(list_rowsDominated, reverse=True):\n",
    "            del list_stratNames_p0[idx_del]\n",
    "\n",
    "        for idx_del in sorted(list_colsDominated, reverse=True):\n",
    "            del list_stratNames_p1[idx_del]"
   ]
  },
  {
   "cell_type": "markdown",
   "metadata": {},
   "source": [
    "# Example - run 1 strategy with 1 pair of hands"
   ]
  },
  {
   "cell_type": "code",
   "execution_count": 4,
   "metadata": {},
   "outputs": [],
   "source": [
    "gt = GameTree_Kuhn2P()"
   ]
  },
  {
   "cell_type": "code",
   "execution_count": 6,
   "metadata": {},
   "outputs": [],
   "source": [
    "# strategy description\n",
    "# strategy = {\n",
    "#   \"hand\": $currentNode$: {action1: prob(action1), action2: prob(action2)}}\n",
    "\n",
    "# 3 baseLine strategies for player-1 that can be applied to each hand\n",
    "#  two actions are possible, depending on what p1 chose if p0 checks\n",
    "#   --> strat_p0_CheckFold, strat_p0_CheckCall, strat_p0_Bet\n",
    "strat_p0_CheckFold = {0: {1: 1.0, 2: 0.0} , 4: {7: 1.0, 8: 0.0}}\n",
    "strat_p0_CheckCall = {0: {1: 1.0, 2: 0.0} , 4: {7: 0.0, 8: 1.0}}\n",
    "strat_p0_Bet       = {0: {1: 0.0, 2: 1.0} , 4: None}\n",
    "\n",
    "strategy_p0 = {\n",
    "    \"J\": strat_p0_CheckFold,\n",
    "    \"Q\": strat_p0_CheckCall,\n",
    "    \"K\": strat_p0_Bet}\n",
    "\n",
    "# 4 baseLine strategies for player-2 that can be applied to each hand\n",
    "#  two actions are possible, depending on what p0 chose as first action (check or bet)\n",
    "#  --> strat_p1_CheckFold, strat_p1_CheckCall, strat_p1_BetFold, strat_p1_BetCall\n",
    "strat_p1_CheckFold = {1: {3: 1.0, 4: 0.0} , 2: {5: 1.0, 6: 0.0}}\n",
    "strat_p1_CheckCall = {1: {3: 1.0, 4: 0.0} , 2: {5: 0.0, 6: 1.0}}\n",
    "strat_p1_BetFold   = {1: {3: 0.0, 4: 1.0} , 2: {5: 1.0, 6: 0.0}}\n",
    "strat_p1_BetCall   = {1: {3: 0.0, 4: 1.0} , 2: {5: 0.0, 6: 1.0}}\n",
    "\n",
    "strategy_p1 = {\n",
    "    \"J\": strat_p1_CheckFold,\n",
    "    \"Q\": strat_p1_CheckCall,\n",
    "    \"K\": strat_p1_BetCall}\n",
    "\n",
    "strategy = {\n",
    "    \"p0\": strategy_p0,\n",
    "    \"p1\": strategy_p1}"
   ]
  },
  {
   "cell_type": "code",
   "execution_count": 37,
   "metadata": {},
   "outputs": [
    {
     "name": "stdout",
     "output_type": "stream",
     "text": [
      "p1 won. winAmount=1\n"
     ]
    }
   ],
   "source": [
    "# hand values:\n",
    "hand_values = {\"J\": 1, \"Q\": 2, \"K\": 3}\n",
    "\n",
    "# chose hands for players\n",
    "hand = {\"p0\": \"J\", \"p1\": \"Q\"}\n",
    "\n",
    "winningPlayer, winAmount, dict_gamePlayed = traverse_gameTree(\n",
    "    gameTree=gt, \n",
    "    strategy=strategy, \n",
    "    hand=hand, \n",
    "    hand_values=hand_values)\n",
    "\n",
    "print(f\"{winningPlayer} won. winAmount={winAmount}\")"
   ]
  },
  {
   "cell_type": "code",
   "execution_count": 111,
   "metadata": {},
   "outputs": [
    {
     "data": {
      "text/plain": [
       "{1: {'player': 'p0', 'action': 2}, 2: {'player': 'p1', 'action': 6}}"
      ]
     },
     "execution_count": 111,
     "metadata": {},
     "output_type": "execute_result"
    }
   ],
   "source": [
    "dict_gamePlayed"
   ]
  },
  {
   "cell_type": "markdown",
   "metadata": {},
   "source": [
    "# Solve all strategies over all hands"
   ]
  },
  {
   "cell_type": "code",
   "execution_count": 19,
   "metadata": {},
   "outputs": [],
   "source": [
    "list_hands = [\"J\", \"Q\", \"K\"]\n",
    "\n",
    "#list_deals = [\"JQ\", \"JK\", \"QJ\", \"QK\", \"KJ\", \"KQ\"]\n",
    "list_deals = [deal for deal in itertools.product(list_hands, list_hands)]\n",
    "\n",
    "# remove duplicates\n",
    "for hand in list_hands:\n",
    "    list_deals.remove((hand, hand))"
   ]
  },
  {
   "cell_type": "code",
   "execution_count": 20,
   "metadata": {},
   "outputs": [
    {
     "data": {
      "text/plain": [
       "[('J', 'Q'), ('J', 'K'), ('Q', 'J'), ('Q', 'K'), ('K', 'J'), ('K', 'Q')]"
      ]
     },
     "execution_count": 20,
     "metadata": {},
     "output_type": "execute_result"
    }
   ],
   "source": [
    "list_deals"
   ]
  },
  {
   "cell_type": "code",
   "execution_count": 52,
   "metadata": {},
   "outputs": [],
   "source": [
    "strat_p0_CheckFold = {0: {1: 1.0, 2: 0.0} , 4: {7: 1.0, 8: 0.0}}\n",
    "strat_p0_CheckCall = {0: {1: 1.0, 2: 0.0} , 4: {7: 0.0, 8: 1.0}}\n",
    "strat_p0_Bet       = {0: {1: 0.0, 2: 1.0} , 4: None}\n",
    "\n",
    "strat_p1_CheckFold = {1: {3: 1.0, 4: 0.0} , 2: {5: 1.0, 6: 0.0}}\n",
    "strat_p1_CheckCall = {1: {3: 1.0, 4: 0.0} , 2: {5: 0.0, 6: 1.0}}\n",
    "strat_p1_BetFold   = {1: {3: 0.0, 4: 1.0} , 2: {5: 1.0, 6: 0.0}}\n",
    "strat_p1_BetCall   = {1: {3: 0.0, 4: 1.0} , 2: {5: 0.0, 6: 1.0}}\n",
    "\n",
    "strat_p0 = {\n",
    "    \"CheckFold\": strat_p0_CheckFold,\n",
    "    \"CheckCall\": strat_p0_CheckCall,\n",
    "    \"Bet\"      : strat_p0_Bet}\n",
    "\n",
    "strat_p1 = {\n",
    "    \"CheckFold\": strat_p1_CheckFold,\n",
    "    \"CheckCall\": strat_p1_CheckCall,\n",
    "    \"BetFold\"  : strat_p1_BetFold,\n",
    "    \"BetCall\"  : strat_p1_BetCall}"
   ]
  },
  {
   "cell_type": "code",
   "execution_count": 117,
   "metadata": {},
   "outputs": [],
   "source": [
    "list_strategies_p0 = []\n",
    "list_stratNames_p0 = []\n",
    "for stratName_J, strat_J in strat_p0.items():\n",
    "    for stratName_Q, strat_Q in strat_p0.items():\n",
    "        for stratName_K, strat_K in strat_p0.items():\n",
    "            strat = {\"J\": strat_J, \"Q\": strat_Q, \"K\": strat_K}\n",
    "            list_strategies_p0.append(strat)\n",
    "            \n",
    "            stratNames = {\"J\": stratName_J, \"Q\": stratName_Q, \"K\": stratName_K}\n",
    "            list_stratNames_p0.append(stratNames)\n",
    "            \n",
    "list_strategies_p1 = []\n",
    "list_stratNames_p1 = []\n",
    "for stratName_J, strat_J in strat_p1.items():\n",
    "    for stratName_Q, strat_Q in strat_p1.items():\n",
    "        for stratName_K, strat_K in strat_p1.items():\n",
    "            strat = {\"J\": strat_J, \"Q\": strat_Q, \"K\": strat_K}\n",
    "            list_strategies_p1.append(strat)\n",
    "            \n",
    "            stratNames = {\"J\": stratName_J, \"Q\": stratName_Q, \"K\": stratName_K}\n",
    "            list_stratNames_p1.append(stratNames)"
   ]
  },
  {
   "cell_type": "code",
   "execution_count": 70,
   "metadata": {},
   "outputs": [
    {
     "name": "stdout",
     "output_type": "stream",
     "text": [
      "PLayer-1 strategies:  27\n",
      "PLayer-2 strategies:  64\n"
     ]
    }
   ],
   "source": [
    "print(\"PLayer-1 strategies: \", len(list_strategies_p0))\n",
    "print(\"PLayer-2 strategies: \", len(list_strategies_p1))"
   ]
  },
  {
   "cell_type": "code",
   "execution_count": 71,
   "metadata": {},
   "outputs": [],
   "source": [
    "hand_values = {\"J\": 1, \"Q\": 2, \"K\": 3}\n",
    "\n",
    "mtx_payoff = np.zeros((len(list_strategies_p0), len(list_strategies_p1)))\n",
    "\n",
    "for iRow, p0_strategy in enumerate(list_strategies_p0):\n",
    "    for iCol, p1_strategy in enumerate(list_strategies_p1):\n",
    "        \n",
    "        #print(\"Strategies:\")\n",
    "        #print(\"   p0: \", list_stratNames_p0[iRow])\n",
    "        #print(\"   p1: \", list_stratNames_p1[iCol])\n",
    "        \n",
    "        payoff = 0.0\n",
    "        for deal in list_deals:\n",
    "            hand = {\"p0\": deal[0], \"p1\": deal[1]}\n",
    "            \n",
    "            # traverse gameTree to find payOff\n",
    "            winningPlayer, winAmount, dict_gamePlayed = traverse_gameTree(\n",
    "                gameTree=gt, \n",
    "                strategy={\"p0\": p0_strategy, \"p1\": p1_strategy}, \n",
    "                hand=hand, \n",
    "                hand_values=hand_values)\n",
    "            \n",
    "            if winningPlayer == \"p0\":\n",
    "                payoff += winAmount\n",
    "            elif winningPlayer == \"p1\":\n",
    "                payoff -= winAmount\n",
    "            else:\n",
    "                raise RuntimeError(f\"Unknown player {winningPlayer} won\")\n",
    "                \n",
    "            #print( \"     \", hand)\n",
    "            #print(f\"      {winningPlayer} won. winAmount={winAmount}\")\n",
    "            #print()\n",
    "                \n",
    "        mtx_payoff[iRow][iCol] = payoff"
   ]
  },
  {
   "cell_type": "code",
   "execution_count": 75,
   "metadata": {},
   "outputs": [],
   "source": [
    "df_mtx = pd.DataFrame(mtx_payoff)\n",
    "df_mtx.to_clipboard()"
   ]
  },
  {
   "cell_type": "markdown",
   "metadata": {},
   "source": [
    "# Use iterated removal of weakly dominated strategies"
   ]
  },
  {
   "cell_type": "code",
   "execution_count": 146,
   "metadata": {},
   "outputs": [
    {
     "name": "stdout",
     "output_type": "stream",
     "text": [
      "[ITERATION 1]\n",
      "   Found 15 weakly dominated strategies (rows)\n",
      "   Found 56 weakly dominated strategies (cols)\n",
      "[ITERATION 2]\n",
      "   Found 4 weakly dominated strategies (rows)\n",
      "   Found 4 weakly dominated strategies (cols)\n",
      "[ITERATION 3]\n",
      "   Found 0 weakly dominated strategies (rows)\n",
      "   Found 0 weakly dominated strategies (cols)\n",
      "Removal of weakly dominated strategies complete\n"
     ]
    }
   ],
   "source": [
    "mtx_payoff_clean, \\\n",
    "list_stratNames_p0_clean, \\\n",
    "list_stratNames_p1_clean = remove_weaklyDominatedStrategies(\n",
    "    mtx_payoff, list_stratNames_p0, list_stratNames_p1)"
   ]
  },
  {
   "cell_type": "code",
   "execution_count": 148,
   "metadata": {},
   "outputs": [
    {
     "data": {
      "text/plain": [
       "(8, 4)"
      ]
     },
     "execution_count": 148,
     "metadata": {},
     "output_type": "execute_result"
    }
   ],
   "source": [
    "mtx_payoff_clean.shape"
   ]
  },
  {
   "cell_type": "code",
   "execution_count": 150,
   "metadata": {},
   "outputs": [
    {
     "data": {
      "text/plain": [
       "array([[ 0.,  0., -1., -1.],\n",
       "       [ 0.,  1., -2., -1.],\n",
       "       [-1., -1.,  1.,  1.],\n",
       "       [-1.,  0.,  0.,  1.],\n",
       "       [ 1., -2.,  0., -3.],\n",
       "       [ 1., -1., -1., -3.],\n",
       "       [ 0., -3.,  2., -1.],\n",
       "       [ 0., -2.,  1., -1.]])"
      ]
     },
     "execution_count": 150,
     "metadata": {},
     "output_type": "execute_result"
    }
   ],
   "source": [
    "mtx_payoff_clean"
   ]
  },
  {
   "cell_type": "code",
   "execution_count": 149,
   "metadata": {},
   "outputs": [
    {
     "data": {
      "text/plain": [
       "[{'J': 'CheckFold', 'Q': 'CheckFold', 'K': 'CheckCall'},\n",
       " {'J': 'CheckFold', 'Q': 'CheckFold', 'K': 'Bet'},\n",
       " {'J': 'CheckFold', 'Q': 'CheckCall', 'K': 'CheckCall'},\n",
       " {'J': 'CheckFold', 'Q': 'CheckCall', 'K': 'Bet'},\n",
       " {'J': 'Bet', 'Q': 'CheckFold', 'K': 'CheckCall'},\n",
       " {'J': 'Bet', 'Q': 'CheckFold', 'K': 'Bet'},\n",
       " {'J': 'Bet', 'Q': 'CheckCall', 'K': 'CheckCall'},\n",
       " {'J': 'Bet', 'Q': 'CheckCall', 'K': 'Bet'}]"
      ]
     },
     "execution_count": 149,
     "metadata": {},
     "output_type": "execute_result"
    }
   ],
   "source": [
    "list_stratNames_p0_clean"
   ]
  },
  {
   "cell_type": "markdown",
   "metadata": {},
   "source": [
    "# Scratch-pad, step-by-step"
   ]
  },
  {
   "cell_type": "code",
   "execution_count": 129,
   "metadata": {},
   "outputs": [
    {
     "name": "stdout",
     "output_type": "stream",
     "text": [
      "Found 15 weakly dominated strategies (rows)\n",
      "Found 56 weakly dominated strategies (cols)\n"
     ]
    }
   ],
   "source": [
    "# find weakly dominated strategies\n",
    "list_rowsDominated = find_weaklyDominatedStrategies(mtx_payoff, findDominatedRows=True)\n",
    "print(\"Found {} weakly dominated strategies (rows)\".format(len(list_rowsDominated)))\n",
    "\n",
    "# note that player1 (cols) has the same payoff as p0, but with reversed sign!\n",
    "list_colsDominated = find_weaklyDominatedStrategies(mtx_payoff*(-1), findDominatedCols=True)\n",
    "print(\"Found {} weakly dominated strategies (cols)\".format(len(list_colsDominated)))"
   ]
  },
  {
   "cell_type": "code",
   "execution_count": 130,
   "metadata": {},
   "outputs": [],
   "source": [
    "# delete all weakly dominated strategies\n",
    "mtx_payoff_cleaned = np.delete(mtx_payoff, list_rowsDominated, axis=0)\n",
    "mtx_payoff_cleaned = np.delete(mtx_payoff_cleaned, list_colsDominated, axis=1)\n",
    "\n",
    "list_stratNames_p0_cleaned = copy.deepcopy(list_stratNames_p0)\n",
    "for idx_del in sorted(list_rowsDominated, reverse=True):\n",
    "    del list_stratNames_p0_cleaned[idx_del]\n",
    "    \n",
    "list_stratNames_p1_cleaned = copy.deepcopy(list_stratNames_p1)\n",
    "for idx_del in sorted(list_colsDominated, reverse=True):\n",
    "    del list_stratNames_p1_cleaned[idx_del]"
   ]
  },
  {
   "cell_type": "code",
   "execution_count": 131,
   "metadata": {},
   "outputs": [
    {
     "data": {
      "text/plain": [
       "(12, 8)"
      ]
     },
     "execution_count": 131,
     "metadata": {},
     "output_type": "execute_result"
    }
   ],
   "source": [
    "len(list_stratNames_p0_cleaned), len(list_stratNames_p1_cleaned)"
   ]
  },
  {
   "cell_type": "code",
   "execution_count": 135,
   "metadata": {},
   "outputs": [],
   "source": [
    "df_mtx_clean = pd.DataFrame(mtx_payoff_cleaned)\n",
    "df_mtx_clean.to_clipboard()"
   ]
  },
  {
   "cell_type": "code",
   "execution_count": 134,
   "metadata": {},
   "outputs": [
    {
     "name": "stdout",
     "output_type": "stream",
     "text": [
      "Found 4 weakly dominated strategies (rows)\n",
      "Found 4 weakly dominated strategies (cols)\n"
     ]
    }
   ],
   "source": [
    "# find weakly dominated strategies\n",
    "list_rowsDominated2 = find_weaklyDominatedStrategies(mtx_payoff_cleaned, findDominatedRows=True)\n",
    "print(\"Found {} weakly dominated strategies (rows)\".format(len(list_rowsDominated2)))\n",
    "\n",
    "# note that player1 (cols) has the same payoff as p0, but with reversed sign!\n",
    "list_colsDominated2 = find_weaklyDominatedStrategies(mtx_payoff_cleaned*(-1), findDominatedCols=True)\n",
    "print(\"Found {} weakly dominated strategies (cols)\".format(len(list_colsDominated2)))"
   ]
  },
  {
   "cell_type": "code",
   "execution_count": 138,
   "metadata": {},
   "outputs": [],
   "source": [
    "# delete all weakly dominated strategies\n",
    "mtx_payoff_cleaned2 = np.delete(mtx_payoff_cleaned, list_rowsDominated2, axis=0)\n",
    "mtx_payoff_cleaned2 = np.delete(mtx_payoff_cleaned2, list_colsDominated2, axis=1)\n",
    "\n",
    "list_stratNames_p0_cleaned2 = copy.deepcopy(list_stratNames_p0_cleaned)\n",
    "for idx_del in sorted(list_rowsDominated2, reverse=True):\n",
    "    del list_stratNames_p0_cleaned2[idx_del]\n",
    "    \n",
    "list_stratNames_p1_cleaned2 = copy.deepcopy(list_stratNames_p1_cleaned)\n",
    "for idx_del in sorted(list_colsDominated2, reverse=True):\n",
    "    del list_stratNames_p1_cleaned2[idx_del]"
   ]
  },
  {
   "cell_type": "code",
   "execution_count": 139,
   "metadata": {},
   "outputs": [
    {
     "data": {
      "text/plain": [
       "(8, 4)"
      ]
     },
     "execution_count": 139,
     "metadata": {},
     "output_type": "execute_result"
    }
   ],
   "source": [
    "mtx_payoff_cleaned2.shape"
   ]
  },
  {
   "cell_type": "code",
   "execution_count": 140,
   "metadata": {},
   "outputs": [
    {
     "name": "stdout",
     "output_type": "stream",
     "text": [
      "Found 0 weakly dominated strategies (rows)\n",
      "Found 0 weakly dominated strategies (cols)\n"
     ]
    }
   ],
   "source": [
    "# find weakly dominated strategies\n",
    "list_rowsDominated3 = find_weaklyDominatedStrategies(mtx_payoff_cleaned2, findDominatedRows=True)\n",
    "print(\"Found {} weakly dominated strategies (rows)\".format(len(list_rowsDominated3)))\n",
    "\n",
    "# note that player1 (cols) has the same payoff as p0, but with reversed sign!\n",
    "list_colsDominated3 = find_weaklyDominatedStrategies(mtx_payoff_cleaned2*(-1), findDominatedCols=True)\n",
    "print(\"Found {} weakly dominated strategies (cols)\".format(len(list_colsDominated3)))"
   ]
  },
  {
   "cell_type": "code",
   "execution_count": 141,
   "metadata": {},
   "outputs": [
    {
     "data": {
      "text/plain": [
       "[{'J': 'CheckFold', 'Q': 'CheckFold', 'K': 'CheckCall'},\n",
       " {'J': 'CheckFold', 'Q': 'CheckFold', 'K': 'Bet'},\n",
       " {'J': 'CheckFold', 'Q': 'CheckCall', 'K': 'CheckCall'},\n",
       " {'J': 'CheckFold', 'Q': 'CheckCall', 'K': 'Bet'},\n",
       " {'J': 'Bet', 'Q': 'CheckFold', 'K': 'CheckCall'},\n",
       " {'J': 'Bet', 'Q': 'CheckFold', 'K': 'Bet'},\n",
       " {'J': 'Bet', 'Q': 'CheckCall', 'K': 'CheckCall'},\n",
       " {'J': 'Bet', 'Q': 'CheckCall', 'K': 'Bet'}]"
      ]
     },
     "execution_count": 141,
     "metadata": {},
     "output_type": "execute_result"
    }
   ],
   "source": [
    "list_stratNames_p0_cleaned2"
   ]
  },
  {
   "cell_type": "code",
   "execution_count": 142,
   "metadata": {},
   "outputs": [
    {
     "data": {
      "text/plain": [
       "[{'J': 'CheckFold', 'Q': 'CheckFold', 'K': 'BetCall'},\n",
       " {'J': 'CheckFold', 'Q': 'CheckCall', 'K': 'BetCall'},\n",
       " {'J': 'BetFold', 'Q': 'CheckFold', 'K': 'BetCall'},\n",
       " {'J': 'BetFold', 'Q': 'CheckCall', 'K': 'BetCall'}]"
      ]
     },
     "execution_count": 142,
     "metadata": {},
     "output_type": "execute_result"
    }
   ],
   "source": [
    "list_stratNames_p1_cleaned2"
   ]
  }
 ],
 "metadata": {
  "kernelspec": {
   "display_name": "Python 3",
   "language": "python",
   "name": "python3"
  },
  "language_info": {
   "codemirror_mode": {
    "name": "ipython",
    "version": 3
   },
   "file_extension": ".py",
   "mimetype": "text/x-python",
   "name": "python",
   "nbconvert_exporter": "python",
   "pygments_lexer": "ipython3",
   "version": "3.8.10"
  }
 },
 "nbformat": 4,
 "nbformat_minor": 4
}

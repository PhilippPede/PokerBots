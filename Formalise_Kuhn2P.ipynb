{
 "cells": [
  {
   "cell_type": "code",
   "execution_count": 1,
   "metadata": {},
   "outputs": [],
   "source": [
    "import numpy as np\n",
    "import pandas as pd"
   ]
  },
  {
   "cell_type": "code",
   "execution_count": 122,
   "metadata": {},
   "outputs": [],
   "source": [
    "class GameTree_Kuhn2P:\n",
    "    def __init__(self):\n",
    "        self.gameTree = {0: {\"name\": \"START\", \n",
    "                             \"thisPlayer\": None, \"nextPlayer\": \"p0\",\n",
    "                             \"thisRound\": 0, \"nextRound\": 1,\n",
    "                             \"conn_up\": None, \"conn_down\": []}}\n",
    "        self.playerActions = {\"p0\": [],\n",
    "                              \"p1\": []}\n",
    "        \n",
    "        self.addRound_1()\n",
    "        self.addRound_2()\n",
    "        self.addRound_3()\n",
    "       \n",
    "    # ----------------------------------------------------------------------------------------------------\n",
    "    #          first round\n",
    "    # ----------------------------------------------------------------------------------------------------\n",
    "    def addRound_1(self):\n",
    "        thisRound, nextRound = 1, 2\n",
    "        nodeUp  = 0\n",
    "        \n",
    "        nodeNew = 1\n",
    "        self.gameTree[nodeUp][\"conn_down\"].append(nodeNew)\n",
    "        self.gameTree[nodeNew] = {\"name\": \"check\", \n",
    "                                  \"thisPlayer\": \"p0\", \"nextPlayer\": \"p1\", \n",
    "                                  \"thisRound\": thisRound, \"nextRound\": nextRound,\n",
    "                                  \"conn_up\": nodeUp, \"conn_down\": []}\n",
    "        self.playerActions[\"p0\"].append(nodeNew)\n",
    "        \n",
    "        nodeNew = 2\n",
    "        self.gameTree[nodeUp][\"conn_down\"].append(nodeNew)\n",
    "        self.gameTree[nodeNew] = {\"name\": \"bet\", \n",
    "                                  \"thisPlayer\": \"p0\", \"nextPlayer\": \"p1\", \n",
    "                                  \"thisRound\": thisRound, \"nextRound\": nextRound,\n",
    "                                  \"conn_up\": nodeUp, \"conn_down\": []}\n",
    "        self.playerActions[\"p0\"].append(nodeNew)\n",
    "        \n",
    "    # ----------------------------------------------------------------------------------------------------\n",
    "    #          second round\n",
    "    # ----------------------------------------------------------------------------------------------------  \n",
    "    def addRound_2(self):\n",
    "        thisRound, nextRound = 2, 3\n",
    "        \n",
    "        # responses to P1:check\n",
    "        nodeUp  = 1\n",
    "        nodeNew = 3\n",
    "        self.gameTree[nodeUp][\"conn_down\"].append(nodeNew)\n",
    "        self.gameTree[nodeNew] = {\"name\": \"check\", \n",
    "                                  \"thisPlayer\": \"p1\", \"nextPlayer\": None, \n",
    "                                  \"thisRound\": thisRound, \"nextRound\": None,\n",
    "                                  \"conn_up\": nodeUp, \"conn_down\": [],\n",
    "                                  \"winningPlayer\": \"SHOWDOWN\",\n",
    "                                  \"winAmount\": 1}\n",
    "        self.playerActions[\"p1\"].append(nodeNew)\n",
    "        \n",
    "        nodeNew = 4\n",
    "        self.gameTree[nodeUp][\"conn_down\"].append(nodeNew)\n",
    "        self.gameTree[nodeNew] = {\"name\": \"bet\", \n",
    "                                  \"thisPlayer\": \"p1\", \"nextPlayer\": \"p0\", \n",
    "                                  \"thisRound\": thisRound, \"nextRound\": nextRound,\n",
    "                                  \"conn_up\": nodeUp, \"conn_down\": []}\n",
    "        self.playerActions[\"p1\"].append(nodeNew)\n",
    "        \n",
    "        # responses to P1:bet\n",
    "        nodeUp  = 2\n",
    "        nodeNew = 5\n",
    "        self.gameTree[nodeUp][\"conn_down\"].append(nodeNew)\n",
    "        self.gameTree[nodeNew] = {\"name\": \"fold\", \n",
    "                                  \"thisPlayer\": \"p1\", \"nextPlayer\": None, \n",
    "                                  \"thisRound\": thisRound, \"nextRound\": None,\n",
    "                                  \"conn_up\": nodeUp, \"conn_down\": [],\n",
    "                                  \"winningPlayer\": \"p0\",\n",
    "                                  \"winAmount\": 1}\n",
    "        self.playerActions[\"p1\"].append(nodeNew)\n",
    "        \n",
    "        nodeNew = 6\n",
    "        self.gameTree[nodeUp][\"conn_down\"].append(nodeNew)\n",
    "        self.gameTree[nodeNew] = {\"name\": \"call\", \n",
    "                                  \"thisPlayer\": \"p1\", \"nextPlayer\": None, \n",
    "                                  \"thisRound\": thisRound, \"nextRound\": None,\n",
    "                                  \"conn_up\": nodeUp, \"conn_down\": [],\n",
    "                                  \"winningPlayer\": \"SHOWDOWN\",\n",
    "                                  \"winAmount\": 2}\n",
    "        self.playerActions[\"p1\"].append(nodeNew)\n",
    "     \n",
    "    # ----------------------------------------------------------------------------------------------------\n",
    "    #          third round\n",
    "    # ----------------------------------------------------------------------------------------------------\n",
    "    def addRound_3(self):\n",
    "        thisRound, nextRound = 3, None\n",
    "        \n",
    "        # responses to P2:bet\n",
    "        nodeUp  = 4\n",
    "        nodeNew = 7\n",
    "        self.gameTree[nodeUp][\"conn_down\"].append(nodeNew)\n",
    "        self.gameTree[nodeNew] = {\"name\": \"fold\", \n",
    "                                  \"thisPlayer\": \"p0\", \"nextPlayer\": None, \n",
    "                                  \"thisRound\": thisRound, \"nextRound\": nextRound,\n",
    "                                  \"conn_up\": nodeUp, \"conn_down\": [],\n",
    "                                  \"winningPlayer\": \"p1\",\n",
    "                                  \"winAmount\": 1}\n",
    "        self.playerActions[\"p0\"].append(nodeNew)\n",
    "        \n",
    "        nodeNew = 8\n",
    "        self.gameTree[nodeUp][\"conn_down\"].append(nodeNew)\n",
    "        self.gameTree[nodeNew] = {\"name\": \"call\", \n",
    "                                  \"thisPlayer\": \"p0\", \"nextPlayer\": None, \n",
    "                                  \"thisRound\": thisRound, \"nextRound\": nextRound,\n",
    "                                  \"conn_up\": nodeUp, \"conn_down\": [],\n",
    "                                  \"winningPlayer\": \"SHOWDOWN\",\n",
    "                                  \"winAmount\": 2}\n",
    "        self.playerActions[\"p0\"].append(nodeNew)"
   ]
  },
  {
   "cell_type": "code",
   "execution_count": 123,
   "metadata": {},
   "outputs": [],
   "source": [
    "gt = GameTree_Kuhn2P()"
   ]
  },
  {
   "cell_type": "code",
   "execution_count": 124,
   "metadata": {},
   "outputs": [
    {
     "data": {
      "text/plain": [
       "{'p0': [1, 2, 7, 8], 'p1': [3, 4, 5, 6]}"
      ]
     },
     "execution_count": 124,
     "metadata": {},
     "output_type": "execute_result"
    }
   ],
   "source": [
    "gt.playerActions"
   ]
  },
  {
   "cell_type": "code",
   "execution_count": 130,
   "metadata": {},
   "outputs": [],
   "source": []
  },
  {
   "cell_type": "code",
   "execution_count": 134,
   "metadata": {},
   "outputs": [],
   "source": [
    "# strategy description\n",
    "# strategy = {\n",
    "#   \"hand\": $currentNode$: {action1: prob(action1), action2: prob(action2)}}\n",
    "\n",
    "# 3 baseLine strategies for player-1 that can be applied to each hand\n",
    "#  two actions are possible, depending on what p1 chose if p0 checks\n",
    "#   --> strat_p0_CheckFold, strat_p0_CheckCall, strat_p0_Bet\n",
    "strat_p0_CheckFold = {0: {1: 1.0, 2: 0.0} , 4: {7: 1.0, 8: 0.0}}\n",
    "strat_p0_CheckCall = {0: {1: 1.0, 2: 0.0} , 4: {7: 0.0, 8: 1.0}}\n",
    "strat_p0_Bet       = {0: {1: 0.0, 2: 1.0} , 4: None}\n",
    "\n",
    "strategy_p0 = {\n",
    "    \"J\": strat_p0_CheckFold,\n",
    "    \"Q\": strat_p0_CheckCall,\n",
    "    \"K\": strat_p0_Bet}\n",
    "\n",
    "# 4 baseLine strategies for player-2 that can be applied to each hand\n",
    "#  two actions are possible, depending on what p0 chose as first action (check or bet)\n",
    "#  --> strat_p1_CheckFold, strat_p1_CheckCall, strat_p1_BetFold, strat_p1_BetCall\n",
    "strat_p1_CheckFold = {1: {3: 1.0, 4: 0.0} , 2: {5: 1.0, 6: 0.0}}\n",
    "strat_p1_CheckCall = {1: {3: 1.0, 4: 0.0} , 2: {5: 0.0, 6: 1.0}}\n",
    "strat_p1_BetFold   = {1: {3: 0.0, 4: 1.0} , 2: {5: 1.0, 6: 0.0}}\n",
    "strat_p1_BetCall   = {1: {3: 0.0, 4: 1.0} , 2: {5: 0.0, 6: 1.0}}\n",
    "\n",
    "strategy_p1 = {\n",
    "    \"J\": strat_p1_CheckFold,\n",
    "    \"Q\": strat_p1_CheckCall,\n",
    "    \"K\": strat_p1_BetCall}\n",
    "\n",
    "strategy = {\n",
    "    \"p0\": strategy_p0,\n",
    "    \"p1\": strategy_p1}"
   ]
  },
  {
   "cell_type": "code",
   "execution_count": 137,
   "metadata": {},
   "outputs": [
    {
     "name": "stdout",
     "output_type": "stream",
     "text": [
      "p0 won. winAmount=2\n"
     ]
    }
   ],
   "source": [
    "# hand values:\n",
    "hand_values = {\"J\": 1, \"Q\": 2, \"K\": 3}\n",
    "\n",
    "# chose hands for players\n",
    "hand = {\n",
    "    \"p0\": \"K\",\n",
    "    \"p1\": \"Q\"}\n",
    "\n",
    "currentNode = 0\n",
    "gameOver = False\n",
    "\n",
    "dict_gamePlayed = {}\n",
    "\n",
    "while not gameOver:\n",
    "    list_nextNodes = gt.gameTree[currentNode][\"conn_down\"]\n",
    "    nextPlayer = gt.gameTree[currentNode][\"nextPlayer\"]\n",
    "    thisRound = gt.gameTree[currentNode][\"thisRound\"]\n",
    "    nextRound = gt.gameTree[currentNode][\"nextRound\"]\n",
    "    \n",
    "    # identify relevant strategy for player\n",
    "    playerStrategy = strategy[nextPlayer]\n",
    "    playerHand = hand[nextPlayer]\n",
    "    \n",
    "    # decide actions to take\n",
    "    possible_actions = playerStrategy[playerHand][currentNode]\n",
    "\n",
    "    arr_actions, arr_prob = np.array([]), np.array([]) \n",
    "    for action, prob in possible_actions.items():\n",
    "        if action not in list_nextNodes:\n",
    "            raise ValueError(\"One of the actions ({}) was not found in game-tree\".format(action))\n",
    "\n",
    "        arr_actions = np.append(arr_actions, action)\n",
    "        arr_prob = np.append(arr_prob, prob)\n",
    "\n",
    "    # pick action based on probability distribution\n",
    "    chosen_action = int(np.random.choice(arr_actions, size=1, p=arr_prob))\n",
    "    dict_gamePlayed[nextRound] = {\"player\": nextPlayer, \"action\": chosen_action}\n",
    "\n",
    "    # move to next round\n",
    "    currentNode = chosen_action\n",
    "    \n",
    "    # finish game if over\n",
    "    if gt.gameTree[currentNode][\"nextRound\"] is None:\n",
    "        gameOver = True\n",
    "        \n",
    "        # evaluate payoff\n",
    "        winningPlayer = gt.gameTree[currentNode][\"winningPlayer\"]\n",
    "        if winningPlayer == \"SHOWDOWN\":\n",
    "            if hand_values[hand[\"p0\"]] > hand_values[hand[\"p1\"]]:\n",
    "                winningPlayer = \"p0\"\n",
    "            elif hand_values[hand[\"p0\"]] < hand_values[hand[\"p1\"]]:\n",
    "                winningPlayer = \"p1\"\n",
    "        winAmount = gt.gameTree[currentNode][\"winAmount\"]\n",
    "            \n",
    "print(f\"{winningPlayer} won. winAmount={winAmount}\")"
   ]
  },
  {
   "cell_type": "code",
   "execution_count": 111,
   "metadata": {},
   "outputs": [
    {
     "data": {
      "text/plain": [
       "{1: {'player': 'p0', 'action': 2}, 2: {'player': 'p1', 'action': 6}}"
      ]
     },
     "execution_count": 111,
     "metadata": {},
     "output_type": "execute_result"
    }
   ],
   "source": [
    "dict_gamePlayed"
   ]
  },
  {
   "cell_type": "code",
   "execution_count": 70,
   "metadata": {},
   "outputs": [
    {
     "data": {
      "text/plain": [
       "array([2])"
      ]
     },
     "execution_count": 70,
     "metadata": {},
     "output_type": "execute_result"
    }
   ],
   "source": [
    "np.random.choice([1,2,3], size=1, p=[0.1, 0.9, 0.0])"
   ]
  }
 ],
 "metadata": {
  "kernelspec": {
   "display_name": "Python 3",
   "language": "python",
   "name": "python3"
  },
  "language_info": {
   "codemirror_mode": {
    "name": "ipython",
    "version": 3
   },
   "file_extension": ".py",
   "mimetype": "text/x-python",
   "name": "python",
   "nbconvert_exporter": "python",
   "pygments_lexer": "ipython3",
   "version": "3.8.10"
  }
 },
 "nbformat": 4,
 "nbformat_minor": 4
}

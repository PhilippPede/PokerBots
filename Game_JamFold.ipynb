{
 "cells": [
  {
   "cell_type": "code",
   "execution_count": 135,
   "metadata": {},
   "outputs": [],
   "source": [
    "import numpy as np\n",
    "import pandas as pd\n",
    "import matplotlib.pyplot as plt"
   ]
  },
  {
   "cell_type": "markdown",
   "metadata": {},
   "source": [
    "# Game Description\n",
    "\n",
    "**Game info**: <br>\n",
    "- two players: Small-Blind (SB) and Big-Blind (BB)\n",
    "- both SB and BB have a initial stack of $V_{SB}$ and $V_{BB}$ \n",
    "\n",
    "**Game mechanics**:\n",
    "1. A hand is dealt to SB and BB. Hand chosen based on $U(0,1)$   \n",
    "2. SB pays 0.5\n",
    "3. BB pays 1.0\n",
    "4. SB decided to either fold or jam (go all-in)\n",
    "5. If SB jams, BB decides to either call or fold\n",
    "6. The better hand wins. The lower, the better.\n",
    "     - There is a certain probability that the worse hand wins"
   ]
  },
  {
   "cell_type": "markdown",
   "metadata": {},
   "source": [
    "# Solution in simplified case:\n",
    "\n",
    "## SetUp\n",
    "- $V_{SB} = V_{BB} = 2$ \n",
    "- $p_{worseHandWins} = \\frac{1}{3}$\n",
    "     \n",
    "- $y$: hand that SB has\n",
    "- $x$: hand that BB has\n",
    "- $y^*$ is the treshold for the SB for making jam/fold decision\n",
    "    - if $y$ is < $y^*$: jam, otherwise fold\n",
    "- $x^*$ is the treshold for the BB to call/fold\n",
    "    - it makes sense to always call as BB if the bets of SB are so small compared to pot\n",
    "    - $x^*=1$ in this setup\n",
    "    \n",
    "## Question\n",
    "- given a hand $y$, what is the expected value of the game for the SB\n",
    "    - assume that the BB uses $x^*=1$\n",
    "    \n",
    "## Solution\n",
    "There are two actions that BB can take, and each of those have their own expectation. <br>\n",
    "Terminology:\n",
    "- $p_w$ probability of winning the pot\n",
    "- $p_l$ probability of losing the pot\n",
    "- $PnL_w$ PnL that is received for winning wrt the stack before the game\n",
    "    - $PnL_w = V_w - V_0$\n",
    "    - this is the difference in stack after winning the pot ($V_w$) compared to \n",
    "      before the game ($V_0$)\n",
    "- $p_{rev}$ probability of reversing who is winning\n",
    "    - normally, the lower hand wins, but with $p_{rev}$ the higher one wins\n",
    "\n",
    "### Expected value for folding\n",
    "- $<\\text{SB},\\text{Fold}|y> = p_w * PnL_w + p_l * PnL_l$\n",
    "- $<\\text{SB},\\text{Fold}|y> = 0.0 + 1.0 * (V_l - V_0) = 1.0 * (1.5 - 2.0)$\n",
    "    - if SB folds, they just lose the SB of $0.5$\n",
    "- $<\\text{SB},\\text{Fold}|y> = -0.5$\n",
    "\n",
    "### Expected value for jamming\n",
    "- $<\\text{SB},\\text{Jam}|y> = p_w|y * PnL_w + p_l|y * PnL_l$\n",
    "    - $p_w|y = p_{yBetter}*(1-p_{rev}) + p_{yWorse}*p_{rev}$ \n",
    "    - $PnL_w = V_w - V_0 = S = 4-2=2$\n",
    "    - $p_l|y = p_{yBetter}*p_{rev} + p_{yWorse}*(1-p_{rev})$ \n",
    "    - $PnL_l = V_l - V_0 = -S = 0-2=-2$\n",
    "    \n",
    "- compute the probability that a given $y$ is better than $x \\sim U(0,1)$\n",
    "    - $p_{yBetter}$: \n",
    "      $y$ is better than $x$ if $x \\epsilon [y,1]$, the probability of that is $1-y$\n",
    "    - $p_{yWorse}$\n",
    "      $y$ is worse than $x$ if $x \\epsilon [0,y]$, the probability of that is $y$\n",
    "    \n",
    "    \n",
    "- $<\\text{SB},\\text{Jam}|y> = ((1-y)*(1-p_{rev}) + y*p_{rev}) * S + \\\\\n",
    "                ((1-y)*p_{rev} + (1-y)*(1-p_{rev}) * (-S)$\n",
    "\n",
    "- rearranging this equation gives:\n",
    "\\begin{equation}\n",
    "<\\text{SB},\\text{Jam}|y> = 2S \\Big( 2yp_{rev} - y - p_{rev} + \\frac{1}{2} \\Big)\n",
    "\\end{equation}\n",
    "\n",
    "- Solution for $S=2, p_{rev}=\\frac{1}{3}$ (used in implementation examples)\n",
    "    - $<\\text{SB},\\text{Jam}|y> = -\\frac{4}{3}y + \\frac{2}{3}$\n",
    "    \n",
    "### What is the value of $Y^*$\n",
    "- jam whenever jamming has higher EV than folding\n",
    "- folding always has EV of $-\\frac{1}{2}$\n",
    "- setting the EV of folding and jamming equal results in:\n",
    "    - $y^* = \\frac{3}{4} + \\frac{1}{2}$"
   ]
  },
  {
   "cell_type": "markdown",
   "metadata": {},
   "source": [
    "# Solution in generic case:"
   ]
  },
  {
   "cell_type": "markdown",
   "metadata": {},
   "source": [
    "# Implementation"
   ]
  },
  {
   "cell_type": "code",
   "execution_count": 28,
   "metadata": {},
   "outputs": [],
   "source": [
    "class PlayerSB:\n",
    "    def __init__(self, hand, jam_treshold):\n",
    "        self.hand = hand\n",
    "        self.jam_treshold = jam_treshold # jam if hand < treshold\n",
    "        \n",
    "    def make_decision(self):\n",
    "        if self.hand <= self.jam_treshold:\n",
    "            return \"JAM\"\n",
    "        else:\n",
    "            return \"FOLD\"\n",
    "        \n",
    "class PlayerBB:\n",
    "    def __init__(self, hand, call_treshold):\n",
    "        self.hand = hand\n",
    "        self.call_treshold = call_treshold # call if hand < treshold\n",
    "        \n",
    "    def make_decision(self):\n",
    "        if self.hand <= self.call_treshold:\n",
    "            return \"CALL\"\n",
    "        else:\n",
    "            return \"FOLD\""
   ]
  },
  {
   "cell_type": "code",
   "execution_count": 62,
   "metadata": {},
   "outputs": [],
   "source": [
    "class Game_JamFold:\n",
    "    def __init__(self, V_SB, V_BB, smallBlind, bigBlind, prob_winWithWorseHand, player_SB, player_BB):\n",
    "        self.V_SB = V_SB\n",
    "        self.V_BB = V_BB\n",
    "        \n",
    "        self.SB = smallBlind\n",
    "        self.BB = bigBlind\n",
    "        \n",
    "        self.prob_winWithWorseHand = prob_winWithWorseHand\n",
    "        \n",
    "        self.player_SB = player_SB\n",
    "        self.player_BB = player_BB\n",
    "        \n",
    "    def play(self):\n",
    "        pot = 0.0\n",
    "        \n",
    "        # step 1: take blinds\n",
    "        V_SB = self.V_SB\n",
    "        V_BB = self.V_BB\n",
    "        \n",
    "        V_SB -= self.SB\n",
    "        pot += self.SB\n",
    "        \n",
    "        V_BB -= self.BB\n",
    "        pot += self.BB\n",
    "        \n",
    "        # step 2: SB-player needs to decide what to do [\"JAM\", \"FOLD\"]\n",
    "        action_SB = player_SB.make_decision()\n",
    "        callAmount = None\n",
    "        \n",
    "        if action_SB == \"FOLD\":\n",
    "            V_BB += pot\n",
    "            pot = 0\n",
    "            return {\"winner\": \"BB\", \"V_SB\": V_SB, \"V_BB\": V_BB}\n",
    "        else:\n",
    "            # first make the call to BB\n",
    "            pot += self.BB - self.SB\n",
    "            V_SB -= (self.BB - self.SB)\n",
    "            \n",
    "            # then jam all-in with rest\n",
    "            callAmount = V_SB\n",
    "            pot += callAmount\n",
    "            V_SB -= callAmount\n",
    "        \n",
    "        # step 3: BB-player needs to decide what to do [\"CALL\", \"FOLD\"]\n",
    "        action_BB = player_BB.make_decision()\n",
    "        \n",
    "        if action_BB == \"FOLD\":\n",
    "            V_SB += pot\n",
    "            pot = 0\n",
    "            return {\"winner\": \"SB\", \"V_SB\": V_SB, \"V_BB\": V_BB}\n",
    "        else:\n",
    "            V_BB -= callAmount\n",
    "            pot += callAmount\n",
    "            \n",
    "        # showdown: determine winning hand\n",
    "        if player_SB.hand < player_BB.hand:\n",
    "            winner = \"SB\"\n",
    "        else:\n",
    "            winner = \"BB\"\n",
    "            \n",
    "        # account for \"luck\" --> the better hand might still lose\n",
    "        reverseResult = np.random.uniform(0.0, 1.0, 1)\n",
    "        if reverseResult <= self.prob_winWithWorseHand:\n",
    "            winner = \"BB\" if winner == \"SB\" else \"SB\"\n",
    "            \n",
    "        # allocate pot to winner\n",
    "        if winner == \"SB\":\n",
    "            V_SB += pot\n",
    "        else:\n",
    "            V_BB += pot\n",
    "            \n",
    "        return {\"winner\": winner, \"V_SB\": V_SB, \"V_BB\": V_BB}        "
   ]
  },
  {
   "cell_type": "code",
   "execution_count": 7,
   "metadata": {},
   "outputs": [
    {
     "name": "stdout",
     "output_type": "stream",
     "text": [
      "X: 0.42157, Y: 0.70463\n"
     ]
    }
   ],
   "source": [
    "SB_hand, BB_hand = np.random.uniform(low=0.0, high=1.0, size=2)\n",
    "print(\"X: {:.5f}, Y: {:.5f}\".format(SB_hand, BB_hand))"
   ]
  },
  {
   "cell_type": "code",
   "execution_count": 38,
   "metadata": {},
   "outputs": [],
   "source": [
    "V_SB, V_BB = 2,2\n",
    "player_SB = PlayerSB(hand=0.2, jam_treshold=0.5)\n",
    "player_BB = PlayerBB(hand=0.7, call_treshold=1.0) # call everything"
   ]
  },
  {
   "cell_type": "code",
   "execution_count": 39,
   "metadata": {},
   "outputs": [],
   "source": [
    "game = Game_JamFold(V_SB=V_SB, \n",
    "                    V_BB=V_BB, \n",
    "                    smallBlind=0.5, \n",
    "                    bigBlind=1.0, \n",
    "                    prob_winWithWorseHand=1.0/3.0, \n",
    "                    player_SB=player_SB, \n",
    "                    player_BB=player_BB)\n",
    "game.play()"
   ]
  },
  {
   "cell_type": "markdown",
   "metadata": {},
   "source": [
    "## Iterate through SB and BB hands"
   ]
  },
  {
   "cell_type": "code",
   "execution_count": 140,
   "metadata": {},
   "outputs": [],
   "source": [
    "V_SB, V_BB = 2,2\n",
    "\n",
    "df_results = pd.DataFrame(columns=[\n",
    "    \"i_hand\",\"i_replay\", \"SB_hand\", \"BB_hand\", \"winner\", \"V_SB\", \"V_BB\"])\n",
    "SB_hand = 1.0/3.0\n",
    "\n",
    "n_hands = 50\n",
    "n_replay = 10\n",
    "handSelection = \"grid\" # \"random\"\n",
    "\n",
    "for SB_hand in np.concatenate((np.linspace(0, 0.5, 21), np.linspace(0.55, 1, 5))):\n",
    "    for i in range(n_hands):\n",
    "        if handSelection == \"random\":\n",
    "            _, BB_hand = np.random.uniform(low=0.0, high=1.0, size=2)\n",
    "        elif handSelection == \"grid\":\n",
    "            minHand, maxHand = 0.0, 1.0\n",
    "            BB_hand = minHand + i * (maxHand-minHand)/(n_hands-1)\n",
    "        else:\n",
    "            raise ValueError(\"Unknown value for \\\"handSelection\\\"\")\n",
    "\n",
    "        player_SB = PlayerSB(hand=SB_hand, jam_treshold=0.5)\n",
    "        player_BB = PlayerBB(hand=BB_hand, call_treshold=1.0) # call everything\n",
    "\n",
    "        game = Game_JamFold(V_SB=V_SB, \n",
    "                            V_BB=V_BB, \n",
    "                            smallBlind=0.5, \n",
    "                            bigBlind=1.0, \n",
    "                            prob_winWithWorseHand=1.0/3.0, \n",
    "                            player_SB=player_SB, \n",
    "                            player_BB=player_BB)\n",
    "\n",
    "        for j in  range(n_replay):\n",
    "            results = game.play()\n",
    "            df_results.loc[df_results.shape[0]] = {\"i_hand\": i,\n",
    "                                                   \"i_replay\": j,\n",
    "                                                   \"SB_hand\": SB_hand,\n",
    "                                                   \"BB_hand\": BB_hand,\n",
    "                                                   \"winner\": results[\"winner\"],\n",
    "                                                   \"V_SB\": results[\"V_SB\"],\n",
    "                                                   \"V_BB\": results[\"V_BB\"]}\n",
    "\n",
    "    df_results[\"PnL_SB\"] = df_results[\"V_SB\"] - V_SB\n",
    "    df_results[\"PnL_BB\"] = df_results[\"V_BB\"] - V_BB"
   ]
  },
  {
   "cell_type": "code",
   "execution_count": 126,
   "metadata": {},
   "outputs": [
    {
     "data": {
      "text/plain": [
       "0.108"
      ]
     },
     "execution_count": 126,
     "metadata": {},
     "output_type": "execute_result"
    }
   ],
   "source": [
    "df_results[\"PnL_SB\"].mean()"
   ]
  },
  {
   "cell_type": "code",
   "execution_count": 121,
   "metadata": {},
   "outputs": [
    {
     "data": {
      "text/plain": [
       "SB    1982\n",
       "BB    1018\n",
       "Name: winner, dtype: int64"
      ]
     },
     "execution_count": 121,
     "metadata": {},
     "output_type": "execute_result"
    }
   ],
   "source": [
    "df_results[\"winner\"].value_counts()"
   ]
  },
  {
   "cell_type": "code",
   "execution_count": 122,
   "metadata": {},
   "outputs": [
    {
     "data": {
      "text/plain": [
       "<AxesSubplot:>"
      ]
     },
     "execution_count": 122,
     "metadata": {},
     "output_type": "execute_result"
    },
    {
     "data": {
      "image/png": "[encoded data removed]",
      "text/plain": [
       "<Figure size 432x288 with 1 Axes>"
      ]
     },
     "metadata": {
      "needs_background": "light"
     },
     "output_type": "display_data"
    }
   ],
   "source": [
    "df_results[\"BB_hand\"].hist()"
   ]
  },
  {
   "cell_type": "code",
   "execution_count": 153,
   "metadata": {
    "scrolled": true
   },
   "outputs": [
    {
     "data": {
      "image/png": "[encoded data removed]",
      "text/plain": [
       "<Figure size 576x576 with 1 Axes>"
      ]
     },
     "metadata": {
      "needs_background": "light"
     },
     "output_type": "display_data"
    }
   ],
   "source": [
    "fig, ax = plt.subplots(1,1, figsize=(8,8))\n",
    "\n",
    "for SB_hand, df in df_results.groupby(\"SB_hand\"):\n",
    "    EV_SB = df[\"PnL_SB\"].mean()\n",
    "    \n",
    "    ax.scatter(SB_hand, EV_SB, color=\"steelblue\")\n",
    "\n",
    "ax.axhline(0, color=\"red\", alpha=0.5)\n",
    "ax.axvline(0.5, color=\"red\", alpha=0.5)\n",
    "\n",
    "# add theoretical line to this\n",
    "arr_x = np.linspace(0, 1.0, 100)\n",
    "arr_jam = -4/3*arr_x + 2/3\n",
    "ax.plot(arr_x, arr_jam, color=\"forestgreen\")\n",
    "\n",
    "arr_x = np.linspace(0.5, 1, 100)\n",
    "arr_fold = arr_x*0-0.5\n",
    "ax.plot(arr_x, arr_fold, color=\"forestgreen\")\n",
    "\n",
    "ax.set_xlabel(\"SB hand\")\n",
    "ax.set_ylabel(\"<SB>\")\n",
    "\n",
    "ax.set_ylim(-1.0, 1.0)\n",
    "ax.grid()"
   ]
  },
  {
   "cell_type": "code",
   "execution_count": 132,
   "metadata": {},
   "outputs": [
    {
     "data": {
      "text/plain": [
       "array([0.    , 0.05  , 0.1   , 0.15  , 0.2   , 0.25  , 0.3   , 0.35  ,\n",
       "       0.4   , 0.45  , 0.5   , 0.55  , 0.6625, 0.775 , 0.8875, 1.    ])"
      ]
     },
     "execution_count": 132,
     "metadata": {},
     "output_type": "execute_result"
    }
   ],
   "source": [
    "np.concatenate((np.linspace(0, 0.5, 11), np.linspace(0.55, 1, 5)))"
   ]
  }
 ],
 "metadata": {
  "kernelspec": {
   "display_name": "Python 3",
   "language": "python",
   "name": "python3"
  },
  "language_info": {
   "codemirror_mode": {
    "name": "ipython",
    "version": 3
   },
   "file_extension": ".py",
   "mimetype": "text/x-python",
   "name": "python",
   "nbconvert_exporter": "python",
   "pygments_lexer": "ipython3",
   "version": "3.8.5"
  }
 },
 "nbformat": 4,
 "nbformat_minor": 4
}

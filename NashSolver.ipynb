{
 "cells": [
  {
   "cell_type": "code",
   "execution_count": 1,
   "metadata": {},
   "outputs": [],
   "source": [
    "import numpy as np\n",
    "import pandas as pd\n",
    "\n",
    "from scipy.optimize import linprog"
   ]
  },
  {
   "cell_type": "markdown",
   "metadata": {},
   "source": [
    "# Useful websites\n",
    "\n",
    "<b>Explain how to find NE with LP</b><br>\n",
    "https://cbom.atozmath.com/example/CBOM/GameTheory.aspx?he=e&q=lpp\n",
    "\n",
    "<b>NE / LP solver</b><br>\n",
    "https://linprog.com/en/main-simplex-method"
   ]
  },
  {
   "cell_type": "markdown",
   "metadata": {},
   "source": [
    "# Some play-around"
   ]
  },
  {
   "cell_type": "code",
   "execution_count": 3,
   "metadata": {},
   "outputs": [
    {
     "data": {
      "text/plain": [
       "array([[ 3, -2],\n",
       "       [-1,  0]])"
      ]
     },
     "execution_count": 3,
     "metadata": {},
     "output_type": "execute_result"
    }
   ],
   "source": [
    "payoff_me = np.array([[3,-2], [-1,0]])\n",
    "payoff_opp = np.array([[-3,2], [1,0]])\n",
    "\n",
    "payoff_me"
   ]
  },
  {
   "cell_type": "code",
   "execution_count": 6,
   "metadata": {},
   "outputs": [
    {
     "data": {
      "text/plain": [
       "array([[6, 1],\n",
       "       [2, 3]])"
      ]
     },
     "execution_count": 6,
     "metadata": {},
     "output_type": "execute_result"
    }
   ],
   "source": [
    "# first make the payoff matrix >0 everywhere\n",
    "# linear affine transformations (ax+b) are the only ones allowed\n",
    "\n",
    "minVal = payoff_me.min()\n",
    "\n",
    "M_me = payoff_me - minVal + 1\n",
    "M_me"
   ]
  },
  {
   "cell_type": "markdown",
   "metadata": {},
   "source": [
    "## Some notes on scipy linprog implementation\n",
    "\n",
    "https://stackoverflow.com/questions/45873783/python-linprog-minimization-simplex-method\n",
    "\n",
    "Key points:\n",
    "* expects the problem to be formulated as a $minimization$ of the objective function\n",
    "* expects the constraints to be formulated as $less$ (or equal). <br>\n",
    "Therefore, if a constraint is formulated as >=, flip the corresponding signs in A and b\n",
    "\n",
    "\n",
    "How to use LP to solve for NE: <br>\n",
    "http://www.universalteacherpublications.com/univ/ebooks/or/Ch9/gamelp.htm"
   ]
  },
  {
   "cell_type": "code",
   "execution_count": 18,
   "metadata": {},
   "outputs": [
    {
     "name": "stdout",
     "output_type": "stream",
     "text": [
      "Optimization successful\n",
      "    Optimal value: 0.3750000028835264\n",
      "    X: [0.0625 0.3125]\n",
      "\n",
      "Optimal strategy for P1: 0.166667 0.833333\n"
     ]
    }
   ],
   "source": [
    "# https://stackoverflow.com/questions/45873783/python-linprog-minimization-simplex-method\n",
    "A = np.array([[-6,-2], [-1, -3]])\n",
    "b = np.array([-1,-1])\n",
    "c = np.array([1,1])\n",
    "\n",
    "res = linprog(c, A_ub=A, b_ub=b, bounds=(0, 1))\n",
    "if res.status == 0:\n",
    "    print('Optimization successful')\n",
    "    print('    Optimal value:', res.fun)\n",
    "    print('    X:', res.x)\n",
    "\n",
    "print()\n",
    "print(\"Optimal strategy for P1: {:.6f} {:.6f}\".format(res.x[0]/res.fun, res.x[1]/res.fun))"
   ]
  },
  {
   "cell_type": "markdown",
   "metadata": {},
   "source": [
    "# Actual Example"
   ]
  },
  {
   "cell_type": "code",
   "execution_count": 6,
   "metadata": {},
   "outputs": [],
   "source": [
    "payoff_me = np.array([[3,-2], [-1,0]])\n",
    "payoff_opp = np.array([[-3,2], [1,0]])"
   ]
  },
  {
   "cell_type": "code",
   "execution_count": 25,
   "metadata": {},
   "outputs": [
    {
     "name": "stdout",
     "output_type": "stream",
     "text": [
      "Optimization successful\n",
      "    Optimal value: 0.3750000028835264\n",
      "    X: [0.0625 0.3125]\n",
      "\n",
      "Optimal strategy for P1: 0.166667 0.833333\n"
     ]
    }
   ],
   "source": [
    "# coefficients for objective function\n",
    "c = np.array([1,1])\n",
    "\n",
    "# constraint formulation (as minimization)\n",
    "minVal = payoff_me.min()\n",
    "M_me = payoff_me - minVal + 1\n",
    "A = (-1) * M_me.T\n",
    "b = np.array([-1,-1])\n",
    "\n",
    "res = linprog(c, A_ub=A, b_ub=b, bounds=(0, 1))\n",
    "if res.status == 0:\n",
    "    print('Optimization successful')\n",
    "    print('    Optimal value:', res.fun)\n",
    "    print('    X:', res.x)\n",
    "\n",
    "print()\n",
    "print(\"Optimal strategy for P1: {:.6f} {:.6f}\".format(res.x[0]/res.fun, res.x[1]/res.fun))"
   ]
  },
  {
   "cell_type": "code",
   "execution_count": 29,
   "metadata": {},
   "outputs": [
    {
     "name": "stdout",
     "output_type": "stream",
     "text": [
      "Optimization successful\n",
      "    Optimal value: 0.23076923083867107\n",
      "    X: [0.07692308 0.15384615]\n",
      "\n",
      "Optimal strategy for P1: 0.333333 0.666667\n"
     ]
    }
   ],
   "source": [
    "# coefficients for objective function\n",
    "c = np.array([1,1])\n",
    "\n",
    "# constraint formulation (as minimization)\n",
    "#minVal = payoff_opp.min()\n",
    "#M_opp = payoff_opp - minVal + 1\n",
    "#A = (-1) * M_opp.T\n",
    "A = np.array([[1,6],[5,4]])*(-1)\n",
    "b = np.array([-1,-1])\n",
    "\n",
    "res = linprog(c, A_ub=A, b_ub=b, bounds=(0, 1))\n",
    "if res.status == 0:\n",
    "    print('Optimization successful')\n",
    "    print('    Optimal value:', res.fun)\n",
    "    print('    X:', res.x)\n",
    "\n",
    "print()\n",
    "print(\"Optimal strategy for P1: {:.6f} {:.6f}\".format(res.x[0]/res.fun, res.x[1]/res.fun))"
   ]
  },
  {
   "cell_type": "code",
   "execution_count": 11,
   "metadata": {},
   "outputs": [],
   "source": [
    "def find_NashEquilibrium(mtx_payoff, player):\n",
    "    \"\"\"\n",
    "    find the NashEquilibrium based on the Normal represenation of the problem\n",
    "        use linear programming approach to maximise value from game for player\n",
    "            basic idea: for all pure strategies of opponent, find your own strategy that maximises value\n",
    "        \n",
    "        use scipy to solve this, which has few technical details\n",
    "            1) constraints need to be expressed as less/greater than\n",
    "                in the straightforward derivation of LP: those are expressed as >=\n",
    "            2) depending on whether we solve for p1 or p2, need to handle payOff matrix differently\n",
    "            3) ensure that all values in payoff matrix are positive (for LP formulation)\n",
    "                note that any affine linear transformation (ax+b) applied to payoff matrix leaves NE intact\n",
    "                ==> we can just add minValue+1 as that transformation\n",
    "    \n",
    "    mtx_payoff ... payoff matrix:\n",
    "        player1 actions: as rows\n",
    "        player2 actions: as cols\n",
    "        \n",
    "    player ... either 1 or 2\n",
    "    \"\"\"\n",
    "    \n",
    "    # linear transformation: make m_ij > 0\n",
    "    minVal = mtx_payoff.min()\n",
    "    mtx_M = mtx_payoff - minVal + 1\n",
    "\n",
    "    # construct matrix containing constraints (formulated as <=)\n",
    "    if player == 1:\n",
    "        A = mtx_M.T * (-1)\n",
    "    elif player == 2:\n",
    "        A = mtx_M * (-1)\n",
    "    else:\n",
    "        raise ValueError(f\"Player must be 1 or 2, but got {player}\")\n",
    "        \n",
    "    # construct vector with constraint-values\n",
    "    #  since we normalise by value, this is just a list of 1s\n",
    "    #  because minimise rather than maximise --> *(-1)\n",
    "    b = np.ones((1, A.shape[1])) * (-1)\n",
    "    \n",
    "    # coefficients for objective function\n",
    "    #  by formulation as LP, where we normalise by value --> automatically a minimization\n",
    "    c = np.ones((1, A.shape[1]))\n",
    "    \n",
    "    # solve the LP\n",
    "    res_LP = linprog(c, A_ub=A, b_ub=b, bounds=(0, 1))\n",
    "    if res_LP.status == 0:\n",
    "        #print('Optimization successful')\n",
    "        #print('    Optimal value:', res.fun)\n",
    "        #print('    X:', res.x)\n",
    "        \n",
    "        # re-construct probabilities for each pure player strategy\n",
    "        arr_prob = res_LP.x / res_LP.fun\n",
    "        return arr_prob\n",
    "    \n",
    "    else:\n",
    "        #print(\"Optimization failed\")\n",
    "        return None"
   ]
  },
  {
   "cell_type": "code",
   "execution_count": 14,
   "metadata": {},
   "outputs": [
    {
     "name": "stdout",
     "output_type": "stream",
     "text": [
      "Strategy for player 1:  [0.16666667 0.83333333]\n",
      "Strategy for player 2:  [0.33333333 0.66666667]\n"
     ]
    }
   ],
   "source": [
    "payoff_p1 = np.array([[3,-2], [-1,0]])\n",
    "payoff_p2 = np.array([[-3,2], [1,0]])\n",
    "\n",
    "strategy_p1 = find_NashEquilibrium(mtx_payoff=payoff_p1, player=1)\n",
    "strategy_p2 = find_NashEquilibrium(mtx_payoff=payoff_p2, player=2)\n",
    "\n",
    "print(\"Strategy for player 1: \", strategy_p1)\n",
    "print(\"Strategy for player 2: \", strategy_p2)"
   ]
  },
  {
   "cell_type": "code",
   "execution_count": 18,
   "metadata": {},
   "outputs": [
    {
     "name": "stdout",
     "output_type": "stream",
     "text": [
      "Strategy for player 1:  [1.31682645e-12 1.00000000e+00]\n",
      "Strategy for player 2:  [1.31682645e-12 1.00000000e+00]\n"
     ]
    }
   ],
   "source": [
    "# Stag Hunt\n",
    "payoff_p1 = np.array([[4,1], [3,2]])\n",
    "payoff_p2 = np.array([[4,3], [1,2]])\n",
    "\n",
    "strategy_p1 = find_NashEquilibrium(mtx_payoff=payoff_p1, player=1)\n",
    "strategy_p2 = find_NashEquilibrium(mtx_payoff=payoff_p2, player=2)\n",
    "\n",
    "print(\"Strategy for player 1: \", strategy_p1)\n",
    "print(\"Strategy for player 2: \", strategy_p2)"
   ]
  },
  {
   "cell_type": "code",
   "execution_count": 19,
   "metadata": {},
   "outputs": [
    {
     "name": "stdout",
     "output_type": "stream",
     "text": [
      "Strategy for player 1:  [2.5654097e-12 1.0000000e+00]\n",
      "Strategy for player 2:  [2.5654097e-12 1.0000000e+00]\n"
     ]
    }
   ],
   "source": [
    "# Prisoners dilemma\n",
    "payoff_p1 = np.array([[2,0], [3,1]])\n",
    "payoff_p2 = np.array([[2,3], [0,1]])\n",
    "\n",
    "strategy_p1 = find_NashEquilibrium(mtx_payoff=payoff_p1, player=1)\n",
    "strategy_p2 = find_NashEquilibrium(mtx_payoff=payoff_p2, player=2)\n",
    "\n",
    "print(\"Strategy for player 1: \", strategy_p1)\n",
    "print(\"Strategy for player 2: \", strategy_p2)"
   ]
  },
  {
   "cell_type": "code",
   "execution_count": 22,
   "metadata": {},
   "outputs": [
    {
     "name": "stdout",
     "output_type": "stream",
     "text": [
      "Strategy for player 1:  [0.33333333 0.33333333 0.33333333]\n",
      "Strategy for player 2:  [0.33333333 0.33333333 0.33333333]\n"
     ]
    }
   ],
   "source": [
    "# Rock Paper Scissor\n",
    "payoff_p1 = np.array([[0,0,1], [1,0,0], [0,1,0]])\n",
    "payoff_p2 = np.array([[0,1,0], [0,0,1], [1,0,0]]) # equivalent to p1.T\n",
    "\n",
    "strategy_p1 = find_NashEquilibrium(mtx_payoff=payoff_p1, player=1)\n",
    "strategy_p2 = find_NashEquilibrium(mtx_payoff=payoff_p2, player=2)\n",
    "\n",
    "print(\"Strategy for player 1: \", strategy_p1)\n",
    "print(\"Strategy for player 2: \", strategy_p2)"
   ]
  },
  {
   "cell_type": "code",
   "execution_count": 25,
   "metadata": {},
   "outputs": [
    {
     "name": "stdout",
     "output_type": "stream",
     "text": [
      "Strategy for player 1:  [0.2 0.2 0.2 0.2 0.2]\n",
      "Strategy for player 2:  [0.2 0.2 0.2 0.2 0.2]\n"
     ]
    }
   ],
   "source": [
    "# Rock Paper Scissor Lizard Spock\n",
    "payoff_p1 = np.array([[0,0,1,1,0], \n",
    "                      [1,0,0,0,1], \n",
    "                      [0,1,0,1,0],\n",
    "                      [0,1,0,0,1],\n",
    "                      [1,0,1,0,0]])\n",
    "\n",
    "payoff_p2 = payoff_p1.T\n",
    "\n",
    "strategy_p1 = find_NashEquilibrium(mtx_payoff=payoff_p1, player=1)\n",
    "strategy_p2 = find_NashEquilibrium(mtx_payoff=payoff_p2, player=2)\n",
    "\n",
    "print(\"Strategy for player 1: \", strategy_p1)\n",
    "print(\"Strategy for player 2: \", strategy_p2)"
   ]
  },
  {
   "cell_type": "markdown",
   "metadata": {},
   "source": [
    "# Time the speed for finding the Nash equilibrium\n",
    "\n",
    "Creating the payoff matrix takes time, do that separately"
   ]
  },
  {
   "cell_type": "code",
   "execution_count": 77,
   "metadata": {},
   "outputs": [],
   "source": [
    "matrixSize = 2048\n",
    "\n",
    "minVal=-10\n",
    "maxVal=10\n",
    "\n",
    "# Random payoff matrix\n",
    "payoff_p1 = np.round(np.random.rand(matrixSize,matrixSize) * (maxVal-minVal) + minVal)\n",
    "#payoff_p2 = (-1)*payoff_p1"
   ]
  },
  {
   "cell_type": "code",
   "execution_count": 78,
   "metadata": {},
   "outputs": [
    {
     "name": "stdout",
     "output_type": "stream",
     "text": [
      "1.0\n",
      "CPU times: user 17min 48s, sys: 1min 22s, total: 19min 11s\n",
      "Wall time: 7min 49s\n"
     ]
    }
   ],
   "source": [
    "%%time \n",
    "\n",
    "strategy_p1 = find_NashEquilibrium(mtx_payoff=payoff_p1, player=1)\n",
    "#strategy_p2 = find_NashEquilibrium(mtx_payoff=payoff_p2, player=2)\n",
    "\n",
    "print(np.sum(strategy_p1))\n",
    "#print(\"Strategy for player 1: \", strategy_p1)\n",
    "#print(\"Strategy for player 2: \", strategy_p2)"
   ]
  },
  {
   "cell_type": "code",
   "execution_count": 82,
   "metadata": {},
   "outputs": [
    {
     "data": {
      "text/html": [
       "<div>\n",
       "<style scoped>\n",
       "    .dataframe tbody tr th:only-of-type {\n",
       "        vertical-align: middle;\n",
       "    }\n",
       "\n",
       "    .dataframe tbody tr th {\n",
       "        vertical-align: top;\n",
       "    }\n",
       "\n",
       "    .dataframe thead th {\n",
       "        text-align: right;\n",
       "    }\n",
       "</style>\n",
       "<table border=\"1\" class=\"dataframe\">\n",
       "  <thead>\n",
       "    <tr style=\"text-align: right;\">\n",
       "      <th></th>\n",
       "      <th>cpuTime</th>\n",
       "    </tr>\n",
       "  </thead>\n",
       "  <tbody>\n",
       "    <tr>\n",
       "      <th>2</th>\n",
       "      <td>0.021</td>\n",
       "    </tr>\n",
       "    <tr>\n",
       "      <th>4</th>\n",
       "      <td>0.032</td>\n",
       "    </tr>\n",
       "    <tr>\n",
       "      <th>8</th>\n",
       "      <td>0.029</td>\n",
       "    </tr>\n",
       "    <tr>\n",
       "      <th>16</th>\n",
       "      <td>0.039</td>\n",
       "    </tr>\n",
       "    <tr>\n",
       "      <th>32</th>\n",
       "      <td>0.371</td>\n",
       "    </tr>\n",
       "    <tr>\n",
       "      <th>64</th>\n",
       "      <td>0.578</td>\n",
       "    </tr>\n",
       "    <tr>\n",
       "      <th>128</th>\n",
       "      <td>1.220</td>\n",
       "    </tr>\n",
       "    <tr>\n",
       "      <th>256</th>\n",
       "      <td>4.220</td>\n",
       "    </tr>\n",
       "    <tr>\n",
       "      <th>512</th>\n",
       "      <td>23.300</td>\n",
       "    </tr>\n",
       "    <tr>\n",
       "      <th>1024</th>\n",
       "      <td>143.000</td>\n",
       "    </tr>\n",
       "    <tr>\n",
       "      <th>2048</th>\n",
       "      <td>469.000</td>\n",
       "    </tr>\n",
       "  </tbody>\n",
       "</table>\n",
       "</div>"
      ],
      "text/plain": [
       "      cpuTime\n",
       "2       0.021\n",
       "4       0.032\n",
       "8       0.029\n",
       "16      0.039\n",
       "32      0.371\n",
       "64      0.578\n",
       "128     1.220\n",
       "256     4.220\n",
       "512    23.300\n",
       "1024  143.000\n",
       "2048  469.000"
      ]
     },
     "execution_count": 82,
     "metadata": {},
     "output_type": "execute_result"
    }
   ],
   "source": [
    "df_cpuTime = pd.DataFrame(\n",
    "    index=[2,4,8,16,32,64,128,256,512,1024, 2048],\n",
    "    data={\"cpuTime\": [0.021, 0.032, 0.029, 0.039, 0.371, 0.578, 1.22, 4.22, 23.3, 2*60+23, 7*60+49]})\n",
    "df_cpuTime"
   ]
  },
  {
   "cell_type": "code",
   "execution_count": 81,
   "metadata": {},
   "outputs": [
    {
     "data": {
      "text/plain": [
       "<AxesSubplot:>"
      ]
     },
     "execution_count": 81,
     "metadata": {},
     "output_type": "execute_result"
    },
    {
     "data": {
      "image/png": "[encoded data removed]",
      "text/plain": [
       "<Figure size 432x288 with 1 Axes>"
      ]
     },
     "metadata": {
      "needs_background": "light"
     },
     "output_type": "display_data"
    }
   ],
   "source": [
    "df_cpuTime.plot()"
   ]
  }
 ],
 "metadata": {
  "kernelspec": {
   "display_name": "Python 3",
   "language": "python",
   "name": "python3"
  },
  "language_info": {
   "codemirror_mode": {
    "name": "ipython",
    "version": 3
   },
   "file_extension": ".py",
   "mimetype": "text/x-python",
   "name": "python",
   "nbconvert_exporter": "python",
   "pygments_lexer": "ipython3",
   "version": "3.8.10"
  }
 },
 "nbformat": 4,
 "nbformat_minor": 4
}
